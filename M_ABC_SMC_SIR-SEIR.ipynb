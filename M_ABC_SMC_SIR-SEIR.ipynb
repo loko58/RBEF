{
 "cells": [
  {
   "cell_type": "code",
   "execution_count": 2,
   "metadata": {},
   "outputs": [],
   "source": [
    "import numpy as np\n",
    "import matplotlib.pyplot as plt\n",
    "import RBMF as rbef\n",
    "\n",
    "from IPython.utils.path import ensure_dir_exists\n",
    "fdir = 'figs/'\n",
    "ensure_dir_exists(fdir)\n",
    "resdir = 'res/'\n",
    "ensure_dir_exists(resdir)"
   ]
  },
  {
   "cell_type": "code",
   "execution_count": 3,
   "metadata": {},
   "outputs": [],
   "source": [
    "#savefig = True\n",
    "savefig = False\n",
    "if savefig:\n",
    "    figsize = (7,4)\n",
    "else:\n",
    "    figsize = (14,8)"
   ]
  },
  {
   "cell_type": "markdown",
   "metadata": {},
   "source": [
    "## by ODE with Runge-Kutta45"
   ]
  },
  {
   "cell_type": "code",
   "execution_count": 4,
   "metadata": {},
   "outputs": [],
   "source": [
    "def deriv(t, Y, ny, iota, phi, delta):\n",
    "    S, I, R, D = np.split(Y, np.cumsum(ny)[:-1])\n",
    "    dYdt = np.zeros(np.sum(ny))\n",
    "    \n",
    "    dSdt  = - S*I@iota\n",
    "    dI0dt =   S*I@iota - (phi[0]  + delta[0]) *I[0]\n",
    "    dImdt = phi[:-1]*I[:-1] - (phi[1:] + delta[1:])*I[1:]\n",
    "    dRdt  = phi[-1]*I[-1]\n",
    "    dDdt  = delta@I\n",
    "    return np.hstack((dSdt, dI0dt, dImdt, dRdt, dDdt))"
   ]
  },
  {
   "cell_type": "markdown",
   "metadata": {},
   "source": [
    "## by SSA with Gillespie Algorithm"
   ]
  },
  {
   "cell_type": "code",
   "execution_count": 6,
   "metadata": {},
   "outputs": [],
   "source": [
    "def updateStates(rExc, S, I, R, D):\n",
    "    #print(rExc)\n",
    "    nm = len(I)\n",
    "    if rExc == 0:    # Infection\n",
    "        S      -= 1\n",
    "        I[0]   += 1\n",
    "        return np.array(S), np.array(I), np.array(R), np.array(D)\n",
    "    \n",
    "    r = rExc - 1\n",
    "    if r <= nm - 2:  # Changing Infectivity Level\n",
    "        I[r]   -= 1\n",
    "        I[r+1] += 1\n",
    "        return np.array(S), np.array(I), np.array(R), np.array(D)\n",
    "    if r == nm - 1:  # Changing Infectivity Level to Recovered\n",
    "        I[r]   -= 1\n",
    "        R      += 1\n",
    "        return np.array(S), np.array(I), np.array(R), np.array(D)\n",
    "          \n",
    "    r -= nm    \n",
    "    if r < nm:       # Death\n",
    "        I[r]   -= 1\n",
    "        D      += 1\n",
    "        return np.array(S), np.array(I), np.array(R), np.array(D)   \n",
    "    \n",
    "def updatePropensities(S, I, R, D, N, iota, phi, delta):\n",
    "    nm = len(I)\n",
    "    kappa = np.zeros(2*nm+1)\n",
    "    \n",
    "    kappa[0]      = S * I @ iota / N  # Infection\n",
    "    kappa[1:nm+1] =     I * phi       # Changing Infectivity Level / Recovery\n",
    "    kappa[nm+1: ] =     I * delta     # Death\n",
    "    return kappa\n"
   ]
  },
  {
   "cell_type": "markdown",
   "metadata": {},
   "source": [
    "### Parameters:"
   ]
  },
  {
   "cell_type": "code",
   "execution_count": null,
   "metadata": {},
   "outputs": [],
   "source": [
    "T     = 300\n",
    "N     = 1000\n",
    "Ii0   = 3\n",
    "\n",
    "Rinit    = np.array([0])\n",
    "Dinit    = np.array([0])\n",
    "\n",
    "s = 0\n",
    "\n",
    "iota0  = 0.2\n",
    "rho0   = 0.02\n",
    "delta0 = 0.01\n",
    "\n",
    "infMean = 0.4"
   ]
  },
  {
   "cell_type": "code",
   "execution_count": null,
   "metadata": {},
   "outputs": [],
   "source": []
  },
  {
   "cell_type": "code",
   "execution_count": null,
   "metadata": {},
   "outputs": [],
   "source": []
  }
 ],
 "metadata": {
  "kernelspec": {
   "display_name": "Python 3",
   "language": "python",
   "name": "python3"
  },
  "language_info": {
   "codemirror_mode": {
    "name": "ipython",
    "version": 3
   },
   "file_extension": ".py",
   "mimetype": "text/x-python",
   "name": "python",
   "nbconvert_exporter": "python",
   "pygments_lexer": "ipython3",
   "version": "3.7.4"
  }
 },
 "nbformat": 4,
 "nbformat_minor": 2
}
